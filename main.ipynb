{
 "cells": [
  {
   "cell_type": "code",
   "execution_count": 1,
   "metadata": {},
   "outputs": [],
   "source": [
    "import pandas as pd\n",
    "import googletrans\n",
    "from googletrans import Translator\n"
   ]
  },
  {
   "cell_type": "code",
   "execution_count": 2,
   "metadata": {},
   "outputs": [],
   "source": [
    "translator = Translator()"
   ]
  },
  {
   "cell_type": "code",
   "execution_count": 3,
   "metadata": {},
   "outputs": [],
   "source": [
    "pd.set_option('max_colwidth', 300)"
   ]
  },
  {
   "cell_type": "code",
   "execution_count": 4,
   "metadata": {},
   "outputs": [
    {
     "data": {
      "text/html": [
       "<div>\n",
       "<style scoped>\n",
       "    .dataframe tbody tr th:only-of-type {\n",
       "        vertical-align: middle;\n",
       "    }\n",
       "\n",
       "    .dataframe tbody tr th {\n",
       "        vertical-align: top;\n",
       "    }\n",
       "\n",
       "    .dataframe thead th {\n",
       "        text-align: right;\n",
       "    }\n",
       "</style>\n",
       "<table border=\"1\" class=\"dataframe\">\n",
       "  <thead>\n",
       "    <tr style=\"text-align: right;\">\n",
       "      <th></th>\n",
       "      <th>Language</th>\n",
       "    </tr>\n",
       "  </thead>\n",
       "  <tbody>\n",
       "    <tr>\n",
       "      <th>af</th>\n",
       "      <td>afrikaans</td>\n",
       "    </tr>\n",
       "    <tr>\n",
       "      <th>sq</th>\n",
       "      <td>albanian</td>\n",
       "    </tr>\n",
       "    <tr>\n",
       "      <th>am</th>\n",
       "      <td>amharic</td>\n",
       "    </tr>\n",
       "    <tr>\n",
       "      <th>ar</th>\n",
       "      <td>arabic</td>\n",
       "    </tr>\n",
       "    <tr>\n",
       "      <th>hy</th>\n",
       "      <td>armenian</td>\n",
       "    </tr>\n",
       "    <tr>\n",
       "      <th>...</th>\n",
       "      <td>...</td>\n",
       "    </tr>\n",
       "    <tr>\n",
       "      <th>cy</th>\n",
       "      <td>welsh</td>\n",
       "    </tr>\n",
       "    <tr>\n",
       "      <th>xh</th>\n",
       "      <td>xhosa</td>\n",
       "    </tr>\n",
       "    <tr>\n",
       "      <th>yi</th>\n",
       "      <td>yiddish</td>\n",
       "    </tr>\n",
       "    <tr>\n",
       "      <th>yo</th>\n",
       "      <td>yoruba</td>\n",
       "    </tr>\n",
       "    <tr>\n",
       "      <th>zu</th>\n",
       "      <td>zulu</td>\n",
       "    </tr>\n",
       "  </tbody>\n",
       "</table>\n",
       "<p>107 rows × 1 columns</p>\n",
       "</div>"
      ],
      "text/plain": [
       "     Language\n",
       "af  afrikaans\n",
       "sq   albanian\n",
       "am    amharic\n",
       "ar     arabic\n",
       "hy   armenian\n",
       "..        ...\n",
       "cy      welsh\n",
       "xh      xhosa\n",
       "yi    yiddish\n",
       "yo     yoruba\n",
       "zu       zulu\n",
       "\n",
       "[107 rows x 1 columns]"
      ]
     },
     "execution_count": 4,
     "metadata": {},
     "output_type": "execute_result"
    }
   ],
   "source": [
    "# how to get the supported language and their corresponing code\n",
    "lang_df = pd.DataFrame.from_dict(\n",
    "    googletrans.LANGUAGES,  orient='index', columns=['Language'])\n",
    "lang_df\n"
   ]
  },
  {
   "cell_type": "code",
   "execution_count": 6,
   "metadata": {},
   "outputs": [],
   "source": [
    "text = \"Cerco un centro di gravità permanente\""
   ]
  },
  {
   "cell_type": "code",
   "execution_count": 5,
   "metadata": {},
   "outputs": [
    {
     "name": "stdout",
     "output_type": "stream",
     "text": [
      "Detected(lang=it, confidence=1)\n"
     ]
    }
   ],
   "source": [
    "my_example = translator.detect(text)\n",
    "print(my_example)"
   ]
  },
  {
   "cell_type": "code",
   "execution_count": 8,
   "metadata": {},
   "outputs": [],
   "source": [
    "my_translation = translator.translate(text, dest='en', src='auto')"
   ]
  },
  {
   "cell_type": "code",
   "execution_count": 9,
   "metadata": {},
   "outputs": [
    {
     "name": "stdout",
     "output_type": "stream",
     "text": [
      "I'm looking for a permanent center of gravity\n"
     ]
    }
   ],
   "source": [
    "print(my_translation.text)"
   ]
  },
  {
   "cell_type": "code",
   "execution_count": 10,
   "metadata": {},
   "outputs": [],
   "source": [
    "my_example = pd.DataFrame({'EnglishText': ['Police in France say they have seized 140,000 face masks that were destined for sale on the black market.',\n",
    "                                           'Officers say they discovered the haul when they spotted a businessman unloading the masks from a lorry into a house in St Denis, north of Paris.',\n",
    "                                           'Prime Minister Boris Johnson could possibly lead the daily news conference on Monday but, if not then, it will be pretty soon afterwards.']})\n"
   ]
  },
  {
   "cell_type": "code",
   "execution_count": 11,
   "metadata": {},
   "outputs": [
    {
     "data": {
      "text/html": [
       "<div>\n",
       "<style scoped>\n",
       "    .dataframe tbody tr th:only-of-type {\n",
       "        vertical-align: middle;\n",
       "    }\n",
       "\n",
       "    .dataframe tbody tr th {\n",
       "        vertical-align: top;\n",
       "    }\n",
       "\n",
       "    .dataframe thead th {\n",
       "        text-align: right;\n",
       "    }\n",
       "</style>\n",
       "<table border=\"1\" class=\"dataframe\">\n",
       "  <thead>\n",
       "    <tr style=\"text-align: right;\">\n",
       "      <th></th>\n",
       "      <th>EnglishText</th>\n",
       "      <th>ItalianText</th>\n",
       "    </tr>\n",
       "  </thead>\n",
       "  <tbody>\n",
       "    <tr>\n",
       "      <th>0</th>\n",
       "      <td>Police in France say they have seized 140,000 face masks that were destined for sale on the black market.</td>\n",
       "      <td>La polizia in Francia afferma di aver sequestrato 140.000 mascherine destinate alla vendita sul mercato nero.</td>\n",
       "    </tr>\n",
       "    <tr>\n",
       "      <th>1</th>\n",
       "      <td>Officers say they discovered the haul when they spotted a businessman unloading the masks from a lorry into a house in St Denis, north of Paris.</td>\n",
       "      <td>Gli ufficiali dicono di aver scoperto il bottino quando hanno visto un uomo d'affari che scaricava le maschere da un camion in una casa a St Denis, a nord di Parigi.</td>\n",
       "    </tr>\n",
       "    <tr>\n",
       "      <th>2</th>\n",
       "      <td>Prime Minister Boris Johnson could possibly lead the daily news conference on Monday but, if not then, it will be pretty soon afterwards.</td>\n",
       "      <td>Il primo ministro Boris Johnson potrebbe forse condurre la conferenza stampa quotidiana lunedì, ma, in caso contrario, sarà molto presto dopo.</td>\n",
       "    </tr>\n",
       "  </tbody>\n",
       "</table>\n",
       "</div>"
      ],
      "text/plain": [
       "                                                                                                                                        EnglishText  \\\n",
       "0                                         Police in France say they have seized 140,000 face masks that were destined for sale on the black market.   \n",
       "1  Officers say they discovered the haul when they spotted a businessman unloading the masks from a lorry into a house in St Denis, north of Paris.   \n",
       "2         Prime Minister Boris Johnson could possibly lead the daily news conference on Monday but, if not then, it will be pretty soon afterwards.   \n",
       "\n",
       "                                                                                                                                                             ItalianText  \n",
       "0                                                          La polizia in Francia afferma di aver sequestrato 140.000 mascherine destinate alla vendita sul mercato nero.  \n",
       "1  Gli ufficiali dicono di aver scoperto il bottino quando hanno visto un uomo d'affari che scaricava le maschere da un camion in una casa a St Denis, a nord di Parigi.  \n",
       "2                         Il primo ministro Boris Johnson potrebbe forse condurre la conferenza stampa quotidiana lunedì, ma, in caso contrario, sarà molto presto dopo.  "
      ]
     },
     "execution_count": 11,
     "metadata": {},
     "output_type": "execute_result"
    }
   ],
   "source": [
    "my_example['ItalianText'] = my_example['EnglishText'].apply(lambda x: translator.translate(x, src='en', dest='it').text )\n",
    "my_example"
   ]
  },
  {
   "cell_type": "code",
   "execution_count": null,
   "metadata": {},
   "outputs": [],
   "source": []
  }
 ],
 "metadata": {
  "kernelspec": {
   "display_name": "Python 3",
   "language": "python",
   "name": "python3"
  },
  "language_info": {
   "codemirror_mode": {
    "name": "ipython",
    "version": 3
   },
   "file_extension": ".py",
   "mimetype": "text/x-python",
   "name": "python",
   "nbconvert_exporter": "python",
   "pygments_lexer": "ipython3",
   "version": "3.11.1"
  },
  "orig_nbformat": 4,
  "vscode": {
   "interpreter": {
    "hash": "d417a21d97a2e6b8832d21dc44f5cbe4be6e18325f874a8bb8484565b928cd54"
   }
  }
 },
 "nbformat": 4,
 "nbformat_minor": 2
}
